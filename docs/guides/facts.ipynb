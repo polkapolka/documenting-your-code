{
 "cells": [
  {
   "cell_type": "markdown",
   "source": [
    "# Guide to facts.py module\n",
    "\n",
    "The `generate_random_fact` function accepts the arguments for the format and the language of the fact and returns a fact in the language and format.\n"
   ],
   "metadata": {
    "collapsed": false,
    "pycharm": {
     "name": "#%% md\n"
    }
   }
  },
  {
   "cell_type": "code",
   "execution_count": 3,
   "outputs": [
    {
     "data": {
      "text/plain": "'> Elefanten grüßen einander, indem sie ihre Rüssel miteinander verschränken.\\n\\nSource: [NEON](http://www.neon.de/artikel/kaufen/produkte/elefanten-gruessen-einander-indem-sie-ihre-ruessel-miteinander-verschraenken/991736)'"
     },
     "execution_count": 3,
     "metadata": {},
     "output_type": "execute_result"
    }
   ],
   "source": [
    "from randomly.facts import  generate_random_fact\n",
    "fact = generate_random_fact(\"md\",\"de\")\n",
    "fact"
   ],
   "metadata": {
    "collapsed": false,
    "pycharm": {
     "name": "#%%\n"
    }
   }
  },
  {
   "cell_type": "markdown",
   "source": [
    "The json object contains additional information."
   ],
   "metadata": {
    "collapsed": false,
    "pycharm": {
     "name": "#%% md\n"
    }
   }
  },
  {
   "cell_type": "code",
   "execution_count": 4,
   "outputs": [
    {
     "data": {
      "text/plain": "{'id': '763a2ee9-e7d4-48ed-8cf3-4e5e88c9526e',\n 'text': 'WWII fighter pilots in the South Pacific armed their airplanes while stationed with .50 caliber machine gun ammo belts measuring 27 feet before being loaded into the fuselage. If the pilots fired all their ammo at a target, he went through \"the whole 9 yards\", hence the term.',\n 'source': 'djtech.net',\n 'source_url': 'http://www.djtech.net/humor/useless_facts.htm',\n 'language': 'en',\n 'permalink': 'https://uselessfacts.jsph.pl/763a2ee9-e7d4-48ed-8cf3-4e5e88c9526e'}"
     },
     "execution_count": 4,
     "metadata": {},
     "output_type": "execute_result"
    }
   ],
   "source": [
    "from randomly.facts import  generate_random_fact\n",
    "fact = generate_random_fact(\"json\",\"en\")\n",
    "fact"
   ],
   "metadata": {
    "collapsed": false,
    "pycharm": {
     "name": "#%%\n"
    }
   }
  }
 ],
 "metadata": {
  "kernelspec": {
   "display_name": "Python 3",
   "language": "python",
   "name": "python3"
  },
  "language_info": {
   "codemirror_mode": {
    "name": "ipython",
    "version": 2
   },
   "file_extension": ".py",
   "mimetype": "text/x-python",
   "name": "python",
   "nbconvert_exporter": "python",
   "pygments_lexer": "ipython2",
   "version": "2.7.6"
  }
 },
 "nbformat": 4,
 "nbformat_minor": 0
}